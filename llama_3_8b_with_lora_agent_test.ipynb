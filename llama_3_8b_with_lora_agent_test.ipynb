{
 "cells": [
  {
   "cell_type": "code",
   "execution_count": 2,
   "metadata": {},
   "outputs": [
    {
     "name": "stderr",
     "output_type": "stream",
     "text": [
      "Special tokens have been added in the vocabulary, make sure the associated word embeddings are fine-tuned or trained.\n"
     ]
    },
    {
     "name": "stdout",
     "output_type": "stream",
     "text": [
      "device: cuda:0\n"
     ]
    },
    {
     "data": {
      "application/vnd.jupyter.widget-view+json": {
       "model_id": "6bc01213221a4fb988aa630a19c78223",
       "version_major": 2,
       "version_minor": 0
      },
      "text/plain": [
       "Loading checkpoint shards:   0%|          | 0/4 [00:00<?, ?it/s]"
      ]
     },
     "metadata": {},
     "output_type": "display_data"
    },
    {
     "name": "stderr",
     "output_type": "stream",
     "text": [
      "The model 'PeftModelForCausalLM' is not supported for text-generation. Supported models are ['BartForCausalLM', 'BertLMHeadModel', 'BertGenerationDecoder', 'BigBirdForCausalLM', 'BigBirdPegasusForCausalLM', 'BioGptForCausalLM', 'BlenderbotForCausalLM', 'BlenderbotSmallForCausalLM', 'BloomForCausalLM', 'CamembertForCausalLM', 'LlamaForCausalLM', 'CodeGenForCausalLM', 'CohereForCausalLM', 'CpmAntForCausalLM', 'CTRLLMHeadModel', 'Data2VecTextForCausalLM', 'DbrxForCausalLM', 'ElectraForCausalLM', 'ErnieForCausalLM', 'FalconForCausalLM', 'FuyuForCausalLM', 'GemmaForCausalLM', 'Gemma2ForCausalLM', 'GitForCausalLM', 'GPT2LMHeadModel', 'GPT2LMHeadModel', 'GPTBigCodeForCausalLM', 'GPTNeoForCausalLM', 'GPTNeoXForCausalLM', 'GPTNeoXJapaneseForCausalLM', 'GPTJForCausalLM', 'JambaForCausalLM', 'JetMoeForCausalLM', 'LlamaForCausalLM', 'MambaForCausalLM', 'MarianForCausalLM', 'MBartForCausalLM', 'MegaForCausalLM', 'MegatronBertForCausalLM', 'MistralForCausalLM', 'MixtralForCausalLM', 'MptForCausalLM', 'MusicgenForCausalLM', 'MusicgenMelodyForCausalLM', 'MvpForCausalLM', 'OlmoForCausalLM', 'OpenLlamaForCausalLM', 'OpenAIGPTLMHeadModel', 'OPTForCausalLM', 'PegasusForCausalLM', 'PersimmonForCausalLM', 'PhiForCausalLM', 'Phi3ForCausalLM', 'PLBartForCausalLM', 'ProphetNetForCausalLM', 'QDQBertLMHeadModel', 'Qwen2ForCausalLM', 'Qwen2MoeForCausalLM', 'RecurrentGemmaForCausalLM', 'ReformerModelWithLMHead', 'RemBertForCausalLM', 'RobertaForCausalLM', 'RobertaPreLayerNormForCausalLM', 'RoCBertForCausalLM', 'RoFormerForCausalLM', 'RwkvForCausalLM', 'Speech2Text2ForCausalLM', 'StableLmForCausalLM', 'Starcoder2ForCausalLM', 'TransfoXLLMHeadModel', 'TrOCRForCausalLM', 'WhisperForCausalLM', 'XGLMForCausalLM', 'XLMWithLMHeadModel', 'XLMProphetNetForCausalLM', 'XLMRobertaForCausalLM', 'XLMRobertaXLForCausalLM', 'XLNetLMHeadModel', 'XmodForCausalLM'].\n"
     ]
    }
   ],
   "source": [
    "import torch\n",
    "from transformers import AutoModelForCausalLM, AutoTokenizer\n",
    "from transformers import BitsAndBytesConfig\n",
    "from peft import LoraConfig, get_peft_model, PeftConfig\n",
    "\n",
    "device = 'cuda:0' if torch.cuda.is_available() else 'cpu'\n",
    "\n",
    "print(f'device: {device}')\n",
    "\n",
    "quant_config = BitsAndBytesConfig(load_in_8bit=True)\n",
    "\n",
    "model_path = '../Meta-Llama-3-8B-Instruct'\n",
    "peft_model_path = 'llama-3-8b-lora'\n",
    "\n",
    "tokenizer = AutoTokenizer.from_pretrained('../Meta-Llama-3-8B-Instruct')\n",
    "model = AutoModelForCausalLM.from_pretrained('../Meta-Llama-3-8B-Instruct', quantization_config=quant_config, device_map={\"\": 0})\n",
    "tokenizer.pad_token = tokenizer.eos_token\n",
    "tokenizer.pad_token_id = tokenizer.eos_token_id\n",
    "model.config.use_cache = False\n",
    "model.config.pretraining_tp = 1\n",
    "model.generation_config.pad_token_id = tokenizer.pad_token_id\n",
    "model.config.pad_token_id = tokenizer.pad_token_id\n",
    "\n",
    "config = PeftConfig.from_pretrained(peft_model_path)\n",
    "\n",
    "model = get_peft_model(model, peft_config=config)\n",
    "\n",
    "from transformers import pipeline\n",
    "from langchain_huggingface import HuggingFacePipeline\n",
    "\n",
    "pipe = pipeline('text-generation', model=model, tokenizer=tokenizer, max_new_tokens=1024, return_full_text=False)\n",
    "llm = HuggingFacePipeline(pipeline=pipe)\n"
   ]
  },
  {
   "cell_type": "code",
   "execution_count": 3,
   "metadata": {},
   "outputs": [],
   "source": [
    "from langchain.agents.output_parsers import ReActSingleInputOutputParser\n"
   ]
  },
  {
   "cell_type": "code",
   "execution_count": 4,
   "metadata": {},
   "outputs": [],
   "source": [
    "from chain_items import PromptValueToChatML, ChatTemplateApplier\n",
    "from chain_items.static import generate_history_passthrough, generate_gemma2_chat_prompt_template, generate_tools  \n",
    "\n",
    "tools = generate_tools()\n",
    "agent = generate_history_passthrough() | generate_gemma2_chat_prompt_template(tools) | PromptValueToChatML() | ChatTemplateApplier(tokenizer=tokenizer) | llm | ReActSingleInputOutputParser()\n"
   ]
  },
  {
   "cell_type": "code",
   "execution_count": 5,
   "metadata": {},
   "outputs": [
    {
     "name": "stdout",
     "output_type": "stream",
     "text": [
      "input messages=[HumanMessage(content='Answer the following questions as best you can. You have access to the following tools:\\n\\nsearxng(*args, **kargs) - Search searxng for recent web results\\n\\nUse only one of following formats:\\n\\nThought: you should always think about what to do\\nAction: the action to take, should be one of [searxng]\\nAction Input: the input to the action\\n\\nor\\n\\nThought: I now know the final answer\\nFinal Answer: the final answer to the original input question\\n\\nBegin!\\n\\nQuestion: who is president of south korea now?')]\n",
      "tool='searxng' tool_input='current president of South Korea' log='Thought: I should check the recent web results to find the current president of South Korea.\\n\\nAction: searxng\\n\\nAction Input: \"current president of South Korea\"'\n"
     ]
    }
   ],
   "source": [
    "print(\n",
    "  agent.invoke({\n",
    "    'input': 'who is president of south korea now?',\n",
    "    # 'input': 'please give me a address of myongji university yongin campus.',\n",
    "    'intermediate_steps': [\n",
    "      # (AgentAction('searxng', 'president of south korea', 'Thought: I should search for the recent web results to find the answer.\\n\\nAction: searxng\\n\\nAction Input: \"current president of south korea\"'), 'yoon seok yeol')\n",
    "    ]\n",
    "  })\n",
    ")\n"
   ]
  },
  {
   "cell_type": "code",
   "execution_count": 6,
   "metadata": {},
   "outputs": [],
   "source": [
    "from langchain.agents import AgentExecutor\n",
    "\n",
    "agent_executor = AgentExecutor(agent=agent, tools=tools, verbose=True, handle_parsing_errors=True, max_iterations=3, return_intermediate_steps=True)\n"
   ]
  },
  {
   "cell_type": "code",
   "execution_count": 7,
   "metadata": {},
   "outputs": [
    {
     "name": "stdout",
     "output_type": "stream",
     "text": [
      "\n",
      "\n",
      "\u001b[1m> Entering new AgentExecutor chain...\u001b[0m\n",
      "input messages=[HumanMessage(content='Answer the following questions as best you can. You have access to the following tools:\\n\\nsearxng(*args, **kargs) - Search searxng for recent web results\\n\\nUse only one of following formats:\\n\\nThought: you should always think about what to do\\nAction: the action to take, should be one of [searxng]\\nAction Input: the input to the action\\n\\nor\\n\\nThought: I now know the final answer\\nFinal Answer: the final answer to the original input question\\n\\nBegin!\\n\\nQuestion: what is reinforcement learning?')]\n",
      "\u001b[32;1m\u001b[1;3mThought: I should search for recent web results on \"reinforcement learning\" to get a better understanding of the concept.\n",
      "\n",
      "Action: searxng\n",
      "\n",
      "Action Input: \"reinforcement learning\"\u001b[0m\u001b[36;1m\u001b[1;3mReinforcement learning (RL) is a machine learning (ML) technique that trains software to make decisions to achieve the most optimal results. It mimics the trial-and-error learning process that humans use to achieve their goals.\u001b[0minput messages=[HumanMessage(content='Answer the following questions as best you can. You have access to the following tools:\\n\\nsearxng(*args, **kargs) - Search searxng for recent web results\\n\\nUse only one of following formats:\\n\\nThought: you should always think about what to do\\nAction: the action to take, should be one of [searxng]\\nAction Input: the input to the action\\n\\nor\\n\\nThought: I now know the final answer\\nFinal Answer: the final answer to the original input question\\n\\nBegin!\\n\\nQuestion: what is reinforcement learning?'), AIMessage(content='Thought: Thought: I should search for recent web results on \"reinforcement learning\" to get a better understanding of the concept.\\n\\nAction: searxng\\n\\nAction Input: \"reinforcement learning\"'), HumanMessage(content='Observation: Reinforcement learning (RL) is a machine learning (ML) technique that trains software to make decisions to achieve the most optimal results. It mimics the trial-and-error learning process that humans use to achieve their goals.')]\n",
      "\u001b[32;1m\u001b[1;3mThought: Ah, I see! Reinforcement learning is a machine learning technique that trains software to make decisions to achieve the most optimal results. This is fascinating! I should dig deeper to understand how it works.\n",
      "\n",
      "Action: searxng\n",
      "\n",
      "Action Input: \"reinforcement learning examples\"\u001b[0m\u001b[36;1m\u001b[1;3mSeptember 1, 2023 - They used a deep reinforcement learning algorithm to tackle the lane following task. Their network architecture was a deep network with 4 convolutional layers and 3 fully connected layers. The example below shows the lane following task. The image in the middle represents the driver’s perspective.\n",
      "\n",
      "2. Natural Language Processing. Predictive text, text summarization, question answering, and machine translation are all examples of natural language processing (NLP) that uses reinforcement learning. By studying typical language patterns, RL agents can mimic and predict how people speak to each other every day.\n",
      "\n",
      "Reinforcement learning has been instrumental in solving complex problems that were once thought to be beyond the reach of automated systems. Consequently, the exploration of reinforcement learning examples can provide profound insights into its capabilities and applications. Furthermore, as we delve into the specifics, it becomes clear that the ...\n",
      "\n",
      "Learn what reinforcement learning is, how it differs from supervised learning, and what are its elements and applications. See an example of a robot finding the best path to reach a reward and avoid hurdles.\n",
      "\n",
      "June 4, 2020 - About Keras Getting started Developer guides Keras 3 API documentation Keras 2 API documentation Code examples Computer Vision Natural Language Processing Structured Data Timeseries Generative Deep Learning Audio Data Reinforcement Learning Actor Critic Method Proximal Policy Optimization Deep ...\n",
      "\n",
      "2 weeks ago - The purpose of reinforcement learning is for the agent to learn an optimal, or nearly-optimal, policy that maximizes the \"reward function\" or other user-provided reinforcement signal that accumulates from the immediate rewards. This is similar to processes that appear to occur in animal psychology. (See Reinforcement.) For example...\n",
      "\n",
      "2 weeks ago - Reinforcement learning is one of the most modern machine learning technologies in which learning is carried out through interaction with the environment. It is used in computer vision tasks like feature detection, image segmentation, object recognition, and tracking. Here are some other examples ...\n",
      "\n",
      "Example - Imagine you are playing a game and you want to win. RL is like figuring out the best moves by playing the game over and over again and getting feedback. You learn which actions give you good results (like getting points) and which actions give you bad results (like losing points). source.\n",
      "\n",
      "Learn about reinforcement learning, a machine learning technique that enables agents to learn from interactions with the environment. Explore various applications, methods, and resources, from Mario Bros to stock trading, from rocket engineering to healthcare.\n",
      "\n",
      "Reinforcement learning (RL) is a type of machine learning process that focuses on decision making by autonomous agents. An autonomous agent is any system that can make decisions and act in response to its environment independent of direct instruction by a human user. Robots and self-driving cars are examples of autonomous agents.\u001b[0minput messages=[HumanMessage(content='Answer the following questions as best you can. You have access to the following tools:\\n\\nsearxng(*args, **kargs) - Search searxng for recent web results\\n\\nUse only one of following formats:\\n\\nThought: you should always think about what to do\\nAction: the action to take, should be one of [searxng]\\nAction Input: the input to the action\\n\\nor\\n\\nThought: I now know the final answer\\nFinal Answer: the final answer to the original input question\\n\\nBegin!\\n\\nQuestion: what is reinforcement learning?'), AIMessage(content='Thought: Thought: I should search for recent web results on \"reinforcement learning\" to get a better understanding of the concept.\\n\\nAction: searxng\\n\\nAction Input: \"reinforcement learning\"'), HumanMessage(content='Observation: Reinforcement learning (RL) is a machine learning (ML) technique that trains software to make decisions to achieve the most optimal results. It mimics the trial-and-error learning process that humans use to achieve their goals.'), AIMessage(content='Thought: Thought: Ah, I see! Reinforcement learning is a machine learning technique that trains software to make decisions to achieve the most optimal results. This is fascinating! I should dig deeper to understand how it works.\\n\\nAction: searxng\\n\\nAction Input: \"reinforcement learning examples\"'), HumanMessage(content='Observation: September 1, 2023 - They used a deep reinforcement learning algorithm to tackle the lane following task. Their network architecture was a deep network with 4 convolutional layers and 3 fully connected layers. The example below shows the lane following task. The image in the middle represents the driver’s perspective.\\n\\n2. Natural Language Processing. Predictive text, text summarization, question answering, and machine translation are all examples of natural language processing (NLP) that uses reinforcement learning. By studying typical language patterns, RL agents can mimic and predict how people speak to each other every day.\\n\\nReinforcement learning has been instrumental in solving complex problems that were once thought to be beyond the reach of automated systems. Consequently, the exploration of reinforcement learning examples can provide profound insights into its capabilities and applications. Furthermore, as we delve into the specifics, it becomes clear that the ...\\n\\nLearn what reinforcement learning is, how it differs from supervised learning, and what are its elements and applications. See an example of a robot finding the best path to reach a reward and avoid hurdles.\\n\\nJune 4, 2020 - About Keras Getting started Developer guides Keras 3 API documentation Keras 2 API documentation Code examples Computer Vision Natural Language Processing Structured Data Timeseries Generative Deep Learning Audio Data Reinforcement Learning Actor Critic Method Proximal Policy Optimization Deep ...\\n\\n2 weeks ago - The purpose of reinforcement learning is for the agent to learn an optimal, or nearly-optimal, policy that maximizes the \"reward function\" or other user-provided reinforcement signal that accumulates from the immediate rewards. This is similar to processes that appear to occur in animal psychology. (See Reinforcement.) For example...\\n\\n2 weeks ago - Reinforcement learning is one of the most modern machine learning technologies in which learning is carried out through interaction with the environment. It is used in computer vision tasks like feature detection, image segmentation, object recognition, and tracking. Here are some other examples ...\\n\\nExample - Imagine you are playing a game and you want to win. RL is like figuring out the best moves by playing the game over and over again and getting feedback. You learn which actions give you good results (like getting points) and which actions give you bad results (like losing points). source.\\n\\nLearn about reinforcement learning, a machine learning technique that enables agents to learn from interactions with the environment. Explore various applications, methods, and resources, from Mario Bros to stock trading, from rocket engineering to healthcare.\\n\\nReinforcement learning (RL) is a type of machine learning process that focuses on decision making by autonomous agents. An autonomous agent is any system that can make decisions and act in response to its environment independent of direct instruction by a human user. Robots and self-driving cars are examples of autonomous agents.')]\n",
      "\u001b[32;1m\u001b[1;3mThought: Thought: I now have a better understanding of reinforcement learning! It's a machine learning technique that trains agents to make decisions to achieve optimal results by interacting with the environment and receiving feedback in the form of rewards or penalties.\n",
      "\n",
      "Final Answer: Reinforcement learning is a machine learning technique that trains agents to make decisions to achieve optimal results by interacting with the environment and receiving feedback in the form of rewards or penalties.\u001b[0m\n",
      "\n",
      "\u001b[1m> Finished chain.\u001b[0m\n",
      "output: Reinforcement learning is a machine learning technique that trains agents to make decisions to achieve optimal results by interacting with the environment and receiving feedback in the form of rewards or penalties.\n"
     ]
    }
   ],
   "source": [
    "res = agent_executor.invoke(input={'input': 'what is reinforcement learning?'})\n",
    "\n",
    "print(f'output: {res['output']}')\n"
   ]
  },
  {
   "cell_type": "code",
   "execution_count": null,
   "metadata": {},
   "outputs": [],
   "source": []
  }
 ],
 "metadata": {
  "kernelspec": {
   "display_name": "base",
   "language": "python",
   "name": "python3"
  },
  "language_info": {
   "codemirror_mode": {
    "name": "ipython",
    "version": 3
   },
   "file_extension": ".py",
   "mimetype": "text/x-python",
   "name": "python",
   "nbconvert_exporter": "python",
   "pygments_lexer": "ipython3",
   "version": "3.12.4"
  }
 },
 "nbformat": 4,
 "nbformat_minor": 2
}
